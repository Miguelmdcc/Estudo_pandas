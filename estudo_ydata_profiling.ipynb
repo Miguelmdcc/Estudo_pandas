{
 "cells": [
  {
   "cell_type": "markdown",
   "metadata": {},
   "source": [
    "# Estudo de dados com Ydata Profiling"
   ]
  },
  {
   "cell_type": "code",
   "execution_count": null,
   "metadata": {},
   "outputs": [
    {
     "ename": "TypeError",
     "evalue": "unsupported Type RangeIndex",
     "output_type": "error",
     "traceback": [
      "\u001b[1;31m---------------------------------------------------------------------------\u001b[0m",
      "\u001b[1;31mTypeError\u001b[0m                                 Traceback (most recent call last)",
      "Cell \u001b[1;32mIn[8], line 7\u001b[0m\n\u001b[0;32m      4\u001b[0m url \u001b[38;5;241m=\u001b[39m \u001b[38;5;124m\"\u001b[39m\u001b[38;5;124mC:/workspace/Desafio Grão Direto IA/transações-desafio.xlsx\u001b[39m\u001b[38;5;124m\"\u001b[39m\n\u001b[0;32m      6\u001b[0m transacoes_dados \u001b[38;5;241m=\u001b[39m pd\u001b[38;5;241m.\u001b[39mread_excel(url)\n\u001b[1;32m----> 7\u001b[0m \u001b[43mtransacoes_dados\u001b[49m\u001b[38;5;241;43m.\u001b[39;49m\u001b[43mTime\u001b[49m\u001b[38;5;241;43m.\u001b[39;49m\u001b[43mto_timestamp\u001b[49m\u001b[43m(\u001b[49m\u001b[43m)\u001b[49m\n",
      "File \u001b[1;32mc:\\Users\\Miguel Mendes\\miniconda3\\envs\\estudoenv\\Lib\\site-packages\\pandas\\core\\series.py:5983\u001b[0m, in \u001b[0;36mSeries.to_timestamp\u001b[1;34m(self, freq, how, copy)\u001b[0m\n\u001b[0;32m   5924\u001b[0m \u001b[38;5;250m\u001b[39m\u001b[38;5;124;03m\"\"\"\u001b[39;00m\n\u001b[0;32m   5925\u001b[0m \u001b[38;5;124;03mCast to DatetimeIndex of Timestamps, at *beginning* of period.\u001b[39;00m\n\u001b[0;32m   5926\u001b[0m \n\u001b[1;32m   (...)\u001b[0m\n\u001b[0;32m   5980\u001b[0m \u001b[38;5;124;03mFreq: YE-JAN, dtype: int64\u001b[39;00m\n\u001b[0;32m   5981\u001b[0m \u001b[38;5;124;03m\"\"\"\u001b[39;00m\n\u001b[0;32m   5982\u001b[0m \u001b[38;5;28;01mif\u001b[39;00m \u001b[38;5;129;01mnot\u001b[39;00m \u001b[38;5;28misinstance\u001b[39m(\u001b[38;5;28mself\u001b[39m\u001b[38;5;241m.\u001b[39mindex, PeriodIndex):\n\u001b[1;32m-> 5983\u001b[0m     \u001b[38;5;28;01mraise\u001b[39;00m \u001b[38;5;167;01mTypeError\u001b[39;00m(\u001b[38;5;124mf\u001b[39m\u001b[38;5;124m\"\u001b[39m\u001b[38;5;124munsupported Type \u001b[39m\u001b[38;5;132;01m{\u001b[39;00m\u001b[38;5;28mtype\u001b[39m(\u001b[38;5;28mself\u001b[39m\u001b[38;5;241m.\u001b[39mindex)\u001b[38;5;241m.\u001b[39m\u001b[38;5;18m__name__\u001b[39m\u001b[38;5;132;01m}\u001b[39;00m\u001b[38;5;124m\"\u001b[39m)\n\u001b[0;32m   5985\u001b[0m new_obj \u001b[38;5;241m=\u001b[39m \u001b[38;5;28mself\u001b[39m\u001b[38;5;241m.\u001b[39mcopy(deep\u001b[38;5;241m=\u001b[39mcopy \u001b[38;5;129;01mand\u001b[39;00m \u001b[38;5;129;01mnot\u001b[39;00m using_copy_on_write())\n\u001b[0;32m   5986\u001b[0m new_index \u001b[38;5;241m=\u001b[39m \u001b[38;5;28mself\u001b[39m\u001b[38;5;241m.\u001b[39mindex\u001b[38;5;241m.\u001b[39mto_timestamp(freq\u001b[38;5;241m=\u001b[39mfreq, how\u001b[38;5;241m=\u001b[39mhow)\n",
      "\u001b[1;31mTypeError\u001b[0m: unsupported Type RangeIndex"
     ]
    }
   ],
   "source": [
    "import pandas as pd\n",
    "from ydata_profiling import ProfileReport\n",
    "\n",
    "url = \"C:/workspace/Desafio Grão Direto IA/transações-desafio.xlsx\"\n",
    "\n",
    "transacoes_dados = pd.read_excel(url)\n",
    "transacoes_dados"
   ]
  },
  {
   "cell_type": "markdown",
   "metadata": {},
   "source": [
    "Criando o report a partir da biblioteca Ydata Profiling"
   ]
  },
  {
   "cell_type": "code",
   "execution_count": 5,
   "metadata": {},
   "outputs": [
    {
     "name": "stderr",
     "output_type": "stream",
     "text": [
      "Summarize dataset: 100%|██████████| 36/36 [00:03<00:00,  9.17it/s, Completed]                    \n",
      "Generate report structure: 100%|██████████| 1/1 [00:02<00:00,  2.68s/it]\n",
      "Render HTML: 100%|██████████| 1/1 [00:00<00:00,  1.10it/s]\n",
      "Export report to file: 100%|██████████| 1/1 [00:00<00:00, 20.62it/s]\n"
     ]
    }
   ],
   "source": [
    "profile = ProfileReport(transacoes_dados)\n",
    "\n",
    "profile.to_file(\"C:/workspace/Desafio Grão Direto IA/transacoes_dados.html\")"
   ]
  }
 ],
 "metadata": {
  "kernelspec": {
   "display_name": "estudoenv",
   "language": "python",
   "name": "python3"
  },
  "language_info": {
   "codemirror_mode": {
    "name": "ipython",
    "version": 3
   },
   "file_extension": ".py",
   "mimetype": "text/x-python",
   "name": "python",
   "nbconvert_exporter": "python",
   "pygments_lexer": "ipython3",
   "version": "3.11.11"
  }
 },
 "nbformat": 4,
 "nbformat_minor": 2
}
